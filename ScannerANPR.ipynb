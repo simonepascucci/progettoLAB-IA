{
  "nbformat": 4,
  "nbformat_minor": 0,
  "metadata": {
    "colab": {
      "name": "ScannerANPR.ipynb",
      "provenance": [],
      "collapsed_sections": []
    },
    "kernelspec": {
      "name": "python3",
      "display_name": "Python 3"
    },
    "language_info": {
      "name": "python"
    }
  },
  "cells": [
    {
      "cell_type": "code",
      "source": [
        "!pip install easyocr\n",
        "!pip install imutils"
      ],
      "metadata": {
        "id": "4yPW5srNdy3h"
      },
      "execution_count": null,
      "outputs": []
    },
    {
      "cell_type": "code",
      "source": [
        "import cv2\n",
        "from matplotlib import pyplot as plt\n",
        "import numpy as np\n",
        "import imutils\n",
        "import easyocr\n",
        "from google.colab.patches import cv2_imshow"
      ],
      "metadata": {
        "id": "VOtp4IQbFwvJ"
      },
      "execution_count": 1,
      "outputs": []
    },
    {
      "cell_type": "code",
      "source": [
        "img = cv2.imread('samples/sample3.jpg')\n",
        "gray = cv2.cvtColor(img, cv2.COLOR_BGR2GRAY)\n",
        "print(\"Input image:\")\n",
        "cv2_imshow(gray)"
      ],
      "metadata": {
        "id": "KZ1MQ7XwFz9d"
      },
      "execution_count": null,
      "outputs": []
    },
    {
      "cell_type": "code",
      "source": [
        "bfilter = cv2.bilateralFilter(gray, 11, 17, 17) #Noise reduction\n",
        "edged = cv2.Canny(bfilter, 30, 200) #Edge detection\n",
        "print(\"Edge detection:\")\n",
        "cv2_imshow(edged)"
      ],
      "metadata": {
        "id": "cqhFXdjBGN_S"
      },
      "execution_count": null,
      "outputs": []
    },
    {
      "cell_type": "code",
      "source": [
        "keypoints = cv2.findContours(edged.copy(), cv2.RETR_TREE, cv2.CHAIN_APPROX_SIMPLE)\n",
        "contours = imutils.grab_contours(keypoints)\n",
        "contours = sorted(contours, key=cv2.contourArea, reverse=True)[:10]\n",
        "\n",
        "location = None\n",
        "for contour in contours:\n",
        "    approx = cv2.approxPolyDP(contour, 10, True) #sample6 21 in place of 10\n",
        "    if len(approx) == 4:\n",
        "        location = approx\n",
        "        break\n",
        "location"
      ],
      "metadata": {
        "id": "VQgnc2YJGixR"
      },
      "execution_count": null,
      "outputs": []
    },
    {
      "cell_type": "code",
      "source": [
        "mask = np.zeros(gray.shape, np.uint8)\n",
        "new_image = cv2.drawContours(mask, [location], 0,255, -1)\n",
        "new_image = cv2.bitwise_and(img, img, mask=mask)\n",
        "print(\"Plate extraction:\")\n",
        "cv2_imshow(new_image)"
      ],
      "metadata": {
        "id": "IsslLloiG-O1"
      },
      "execution_count": null,
      "outputs": []
    },
    {
      "cell_type": "code",
      "source": [
        "(x,y) = np.where(mask==255)\n",
        "(x1, y1) = (np.min(x), np.min(y))\n",
        "(x2, y2) = (np.max(x), np.max(y))\n",
        "cropped_image = gray[x1:x2+1, y1:y2+1]\n",
        "print(\"Plate:\")\n",
        "cv2_imshow(cropped_image)"
      ],
      "metadata": {
        "id": "XwYh4nhiHU1K"
      },
      "execution_count": null,
      "outputs": []
    },
    {
      "cell_type": "code",
      "source": [
        "reader = easyocr.Reader(['it'])\n",
        "result = reader.readtext(cropped_image)\n",
        "text = result[0][-2]\n",
        "text = text.upper()"
      ],
      "metadata": {
        "id": "ebCMnQFAIX2u"
      },
      "execution_count": null,
      "outputs": []
    },
    {
      "cell_type": "code",
      "source": [
        "print(\"Recognized plate: \"+text)\n",
        "font = cv2.FONT_HERSHEY_SIMPLEX\n",
        "res = cv2.putText(img, text=text, org=(approx[0][0][0], approx[1][0][1]+60), fontFace=font, fontScale=1, color=(0,255,0), thickness=2, lineType=cv2.LINE_AA)\n",
        "res = cv2.rectangle(img, tuple(approx[0][0]), tuple(approx[2][0]), (0,255,0),3)\n",
        "cv2_imshow(res)"
      ],
      "metadata": {
        "id": "Rkyz2CPhJCRp"
      },
      "execution_count": null,
      "outputs": []
    },
    {
      "cell_type": "code",
      "source": [
        ""
      ],
      "metadata": {
        "id": "eT11-b77JDJL"
      },
      "execution_count": null,
      "outputs": []
    }
  ]
}
